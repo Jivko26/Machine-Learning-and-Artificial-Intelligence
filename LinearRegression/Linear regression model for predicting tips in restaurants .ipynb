{
 "cells": [
  {
   "cell_type": "code",
   "execution_count": 6,
   "id": "dae36bab",
   "metadata": {},
   "outputs": [
    {
     "name": "stdout",
     "output_type": "stream",
     "text": [
      "Training Set Mean Absolute Error: 0.70\n",
      "Test Set Mean Absolute Error: 0.91\n"
     ]
    }
   ],
   "source": [
    "#import libraries\n",
    "import pandas as pd \n",
    "from sklearn.linear_model import LinearRegression\n",
    "from sklearn.model_selection import train_test_split\n",
    "from sklearn.metrics import mean_absolute_error\n",
    "import seaborn as sns\n",
    "\n",
    "#Read the data\n",
    "df = pd.read_csv('https://raw.githubusercontent.com/mwaskom/seaborn-data/master/tips.csv')\n",
    "\n",
    "del df['smoker']\n",
    "\n",
    "df.head()\n",
    "\n",
    "#Perform one-hot encoding on non-numeric variables\n",
    "df = pd.get_dummies(df, columns=['time', 'day','sex'])\n",
    "\n",
    "#Exploratory data analysis\n",
    "df_corr = df.corr()\n",
    "df_corr\n",
    "\n",
    "#Initialize variables X and y\n",
    "X = df.drop('tip', axis=1)\n",
    "y = df['tip']\n",
    "\n",
    "#Split the data into train data and test data and shuffle\n",
    "X_train, X_test, y_train, y_test = train_test_split(X, y, test_size=0.2, shuffle=True)\n",
    "\n",
    "#Assign the model and fit the data to it\n",
    "model = LinearRegression()\n",
    "model.fit(X_train, y_train)\n",
    "\n",
    "#Find y-intercept\n",
    "model.intercept_\n",
    "\n",
    "# Find x coefficients\n",
    "model.coef_\n",
    "\n",
    "# Check prediction error for training data using MAE\n",
    "mae_train = mean_absolute_error(y_train, model.predict(X_train))\n",
    "print (\"Training Set Mean Absolute Error: %.2f\" % mae_train)\n",
    "\n",
    "# Check prediction error for test data using MAE\n",
    "mae_test = mean_absolute_error(y_test, model.predict(X_test))\n",
    "print (\"Test Set Mean Absolute Error: %.2f\" % mae_test)"
   ]
  },
  {
   "cell_type": "code",
   "execution_count": 13,
   "id": "f4528446",
   "metadata": {},
   "outputs": [
    {
     "data": {
      "text/plain": [
       "array([ 4.96320119, 36.90107174,  2.48256848])"
      ]
     },
     "execution_count": 13,
     "metadata": {},
     "output_type": "execute_result"
    }
   ],
   "source": [
    "# Make a prediction\n",
    "people = [\n",
    "[\n",
    "\t40, #total_bill\n",
    "\t4, #size\n",
    "\t1, #time_dinner\n",
    "\t0, #time_lunch\n",
    "\t1, #day_fri\n",
    "\t0, #day_sat\n",
    "\t0, #day_sun\n",
    "\t0, #day_thur\n",
    "\t1, #sex_female\n",
    "\t0, #sex_male\n",
    "],\n",
    "[\n",
    "\t400, #total_bill\n",
    "\t6, #size\n",
    "\t1, #time_dinner\n",
    "\t0, #time_lunch\n",
    "\t0, #day_fri\n",
    "\t0, #day_sat\n",
    "\t1, #day_sun\n",
    "\t0, #day_thur\n",
    "\t1, #sex_female\n",
    "\t0, #sex_male\n",
    "],\n",
    "[\n",
    "\t15, #total_bill\n",
    "\t2, #size\n",
    "\t0, #time_dinner\n",
    "\t1, #time_lunch\n",
    "\t0, #day_fri\n",
    "\t0, #day_sat\n",
    "\t0, #day_sun\n",
    "\t1, #day_thur\n",
    "\t0, #sex_female\n",
    "\t1, #sex_male\n",
    "]\n",
    "]\n",
    "\n",
    "\n",
    "\n",
    "predictions = model.predict(people)\n",
    "predictions"
   ]
  }
 ],
 "metadata": {
  "kernelspec": {
   "display_name": "Python 3",
   "language": "python",
   "name": "python3"
  },
  "language_info": {
   "codemirror_mode": {
    "name": "ipython",
    "version": 3
   },
   "file_extension": ".py",
   "mimetype": "text/x-python",
   "name": "python",
   "nbconvert_exporter": "python",
   "pygments_lexer": "ipython3",
   "version": "3.8.8"
  }
 },
 "nbformat": 4,
 "nbformat_minor": 5
}
